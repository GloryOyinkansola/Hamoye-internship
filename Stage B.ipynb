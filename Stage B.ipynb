{
 "cells": [
  {
   "cell_type": "code",
   "execution_count": 1,
   "id": "976120c0-aa4c-4a91-9d90-855b84a337fc",
   "metadata": {},
   "outputs": [],
   "source": [
    "import pandas as pd"
   ]
  },
  {
   "cell_type": "code",
   "execution_count": 2,
   "id": "59d70da3-1449-41e5-8972-3240c14d73cc",
   "metadata": {},
   "outputs": [],
   "source": [
    "df = pd.read_csv('Documents/FoodBalanceSheets_E_Africa_NOFLAG.csv')"
   ]
  },
  {
   "cell_type": "code",
   "execution_count": 14,
   "id": "fa9d9506-c66b-4bd7-88b8-4234e7086fa2",
   "metadata": {},
   "outputs": [
    {
     "data": {
      "text/html": [
       "<div>\n",
       "<style scoped>\n",
       "    .dataframe tbody tr th:only-of-type {\n",
       "        vertical-align: middle;\n",
       "    }\n",
       "\n",
       "    .dataframe tbody tr th {\n",
       "        vertical-align: top;\n",
       "    }\n",
       "\n",
       "    .dataframe thead th {\n",
       "        text-align: right;\n",
       "    }\n",
       "</style>\n",
       "<table border=\"1\" class=\"dataframe\">\n",
       "  <thead>\n",
       "    <tr style=\"text-align: right;\">\n",
       "      <th></th>\n",
       "      <th>Area Code</th>\n",
       "      <th>Area</th>\n",
       "      <th>Item Code</th>\n",
       "      <th>Item</th>\n",
       "      <th>Element Code</th>\n",
       "      <th>Element</th>\n",
       "      <th>Unit</th>\n",
       "      <th>Y2014</th>\n",
       "      <th>Y2015</th>\n",
       "      <th>Y2016</th>\n",
       "      <th>Y2017</th>\n",
       "      <th>Y2018</th>\n",
       "    </tr>\n",
       "  </thead>\n",
       "  <tbody>\n",
       "    <tr>\n",
       "      <th>0</th>\n",
       "      <td>4</td>\n",
       "      <td>Algeria</td>\n",
       "      <td>2501</td>\n",
       "      <td>Population</td>\n",
       "      <td>511</td>\n",
       "      <td>Total Population - Both sexes</td>\n",
       "      <td>1000 persons</td>\n",
       "      <td>38924.00</td>\n",
       "      <td>39728.00</td>\n",
       "      <td>40551.00</td>\n",
       "      <td>41389.00</td>\n",
       "      <td>42228.00</td>\n",
       "    </tr>\n",
       "    <tr>\n",
       "      <th>1</th>\n",
       "      <td>4</td>\n",
       "      <td>Algeria</td>\n",
       "      <td>2501</td>\n",
       "      <td>Population</td>\n",
       "      <td>5301</td>\n",
       "      <td>Domestic supply quantity</td>\n",
       "      <td>1000 tonnes</td>\n",
       "      <td>0.00</td>\n",
       "      <td>0.00</td>\n",
       "      <td>0.00</td>\n",
       "      <td>0.00</td>\n",
       "      <td>0.00</td>\n",
       "    </tr>\n",
       "    <tr>\n",
       "      <th>2</th>\n",
       "      <td>4</td>\n",
       "      <td>Algeria</td>\n",
       "      <td>2901</td>\n",
       "      <td>Grand Total</td>\n",
       "      <td>664</td>\n",
       "      <td>Food supply (kcal/capita/day)</td>\n",
       "      <td>kcal/capita/day</td>\n",
       "      <td>3377.00</td>\n",
       "      <td>3379.00</td>\n",
       "      <td>3372.00</td>\n",
       "      <td>3341.00</td>\n",
       "      <td>3322.00</td>\n",
       "    </tr>\n",
       "    <tr>\n",
       "      <th>3</th>\n",
       "      <td>4</td>\n",
       "      <td>Algeria</td>\n",
       "      <td>2901</td>\n",
       "      <td>Grand Total</td>\n",
       "      <td>674</td>\n",
       "      <td>Protein supply quantity (g/capita/day)</td>\n",
       "      <td>g/capita/day</td>\n",
       "      <td>94.90</td>\n",
       "      <td>94.35</td>\n",
       "      <td>94.72</td>\n",
       "      <td>92.82</td>\n",
       "      <td>91.83</td>\n",
       "    </tr>\n",
       "    <tr>\n",
       "      <th>4</th>\n",
       "      <td>4</td>\n",
       "      <td>Algeria</td>\n",
       "      <td>2901</td>\n",
       "      <td>Grand Total</td>\n",
       "      <td>684</td>\n",
       "      <td>Fat supply quantity (g/capita/day)</td>\n",
       "      <td>g/capita/day</td>\n",
       "      <td>80.06</td>\n",
       "      <td>79.36</td>\n",
       "      <td>77.40</td>\n",
       "      <td>80.19</td>\n",
       "      <td>77.28</td>\n",
       "    </tr>\n",
       "  </tbody>\n",
       "</table>\n",
       "</div>"
      ],
      "text/plain": [
       "   Area Code     Area  Item Code         Item  Element Code  \\\n",
       "0          4  Algeria       2501   Population           511   \n",
       "1          4  Algeria       2501   Population          5301   \n",
       "2          4  Algeria       2901  Grand Total           664   \n",
       "3          4  Algeria       2901  Grand Total           674   \n",
       "4          4  Algeria       2901  Grand Total           684   \n",
       "\n",
       "                                  Element             Unit     Y2014  \\\n",
       "0           Total Population - Both sexes     1000 persons  38924.00   \n",
       "1                Domestic supply quantity      1000 tonnes      0.00   \n",
       "2           Food supply (kcal/capita/day)  kcal/capita/day   3377.00   \n",
       "3  Protein supply quantity (g/capita/day)     g/capita/day     94.90   \n",
       "4      Fat supply quantity (g/capita/day)     g/capita/day     80.06   \n",
       "\n",
       "      Y2015     Y2016     Y2017     Y2018  \n",
       "0  39728.00  40551.00  41389.00  42228.00  \n",
       "1      0.00      0.00      0.00      0.00  \n",
       "2   3379.00   3372.00   3341.00   3322.00  \n",
       "3     94.35     94.72     92.82     91.83  \n",
       "4     79.36     77.40     80.19     77.28  "
      ]
     },
     "execution_count": 14,
     "metadata": {},
     "output_type": "execute_result"
    }
   ],
   "source": [
    "df.head()"
   ]
  },
  {
   "cell_type": "code",
   "execution_count": 68,
   "id": "c4034a41-bbad-4808-8e82-767bd7c6e24c",
   "metadata": {},
   "outputs": [
    {
     "name": "stdout",
     "output_type": "stream",
     "text": [
      "Item\n",
      "Alcohol, Non-Food        2403.00\n",
      "Alcoholic Beverages    102410.11\n",
      "Animal Products         11935.65\n",
      "Animal fats            209460.54\n",
      "Apples and products      9499.23\n",
      "                         ...    \n",
      "Vegetables, Other      155038.96\n",
      "Vegetal Products       107145.19\n",
      "Wheat and products     232670.13\n",
      "Wine                     4497.36\n",
      "Yams                   200396.96\n",
      "Name: Y2014, Length: 119, dtype: float64\n",
      " \n",
      " Item\n",
      "Alcohol, Non-Food        2348.00\n",
      "Alcoholic Beverages     95581.06\n",
      "Animal Products         11547.65\n",
      "Animal fats            269617.53\n",
      "Apples and products     10198.90\n",
      "                         ...    \n",
      "Vegetables, Other      157752.59\n",
      "Vegetal Products       107655.20\n",
      "Wheat and products     240047.62\n",
      "Wine                     4178.02\n",
      "Yams                   229174.59\n",
      "Name: Y2017, Length: 119, dtype: float64\n"
     ]
    }
   ],
   "source": [
    "#What is the total sum of Animal Fat produced in 2014 and 2017 respectively?\n",
    "print(df.groupby('Item')['Y2014'].sum())\n",
    "print(\" \\n\",df.groupby('Item')['Y2017'].sum())"
   ]
  },
  {
   "cell_type": "code",
   "execution_count": 114,
   "id": "b7662512-4ff7-49fc-8dd8-b20fe7d118c3",
   "metadata": {},
   "outputs": [
    {
     "name": "stdout",
     "output_type": "stream",
     "text": [
      "135.236\n",
      "1603.404\n"
     ]
    }
   ],
   "source": [
    "#What is the total sum of Animal Fat produced in 2014 and 2017 respectively?\n",
    "print(round(df['Y2015'].mean(), 3))\n",
    "print(round(df['Y2015'].std(), 3))"
   ]
  },
  {
   "cell_type": "code",
   "execution_count": 115,
   "id": "7e0ed60f-3386-468c-8f66-3731bb47d47f",
   "metadata": {},
   "outputs": [
    {
     "name": "stdout",
     "output_type": "stream",
     "text": [
      "Number of missing data -  1535\n",
      "Percentage of missing data -  2.52\n"
     ]
    }
   ],
   "source": [
    "#What is the total number and percentage of missing data in 2016 to 2 decimal places?\n",
    "print(\"Number of missing data - \", df['Y2016'].isnull().sum())\n",
    "print(\"Percentage of missing data - \", round(df['Y2016'].isnull().sum()*100 / len(df),2))"
   ]
  },
  {
   "cell_type": "code",
   "execution_count": 116,
   "id": "395590c8-b9cb-4497-9371-f427b66d1142",
   "metadata": {},
   "outputs": [
    {
     "data": {
      "text/plain": [
       "Item Code      -0.024683\n",
       "Area Code      -0.000209\n",
       "Y2016           0.023444\n",
       "Y2015           0.023889\n",
       "Y2017           0.024254\n",
       "Y2018           0.024279\n",
       "Y2014           0.024457\n",
       "Element Code    1.000000\n",
       "Name: Element Code, dtype: float64"
      ]
     },
     "execution_count": 116,
     "metadata": {},
     "output_type": "execute_result"
    }
   ],
   "source": [
    "#Which year had the highest correlation with ‘Element Code’? \n",
    "df.corr().loc['Element Code'].sort_values()"
   ]
  },
  {
   "cell_type": "code",
   "execution_count": 106,
   "id": "47cfa3d1-5215-4bc3-93c5-b616fb77c1b9",
   "metadata": {},
   "outputs": [
    {
     "name": "stdout",
     "output_type": "stream",
     "text": [
      "=====================++++2014+++++=====================\n",
      "Element\n",
      "Domestic supply quantity                  1996716.35\n",
      "Export Quantity                            150020.64\n",
      "Fat supply quantity (g/capita/day)          10225.56\n",
      "Feed                                       216927.89\n",
      "Food                                      1212332.49\n",
      "Food supply (kcal/capita/day)              454257.00\n",
      "Food supply quantity (kg/capita/yr)         49650.63\n",
      "Import Quantity                            274144.48\n",
      "Losses                                     153223.00\n",
      "Other uses (non-food)                       78718.13\n",
      "Processing                                 282923.00\n",
      "Production                                1931287.75\n",
      "Protein supply quantity (g/capita/day)      11836.46\n",
      "Residuals                                   30149.00\n",
      "Seed                                        21922.92\n",
      "Stock Variation                             58749.83\n",
      "Total Population - Both sexes             1031585.00\n",
      "Tourist consumption                           416.00\n",
      "Name: Y2014, dtype: float64\n",
      "=====================++++2015+++++=====================\n",
      "Element\n",
      "Domestic supply quantity                  2021493.55\n",
      "Export Quantity                            157614.47\n",
      "Fat supply quantity (g/capita/day)          10235.74\n",
      "Feed                                       225050.22\n",
      "Food                                      1232361.10\n",
      "Food supply (kcal/capita/day)              453383.00\n",
      "Food supply quantity (kg/capita/yr)         49345.13\n",
      "Import Quantity                            267018.46\n",
      "Losses                                     155439.00\n",
      "Other uses (non-food)                       66254.41\n",
      "Processing                                 287929.00\n",
      "Production                                1947019.39\n",
      "Protein supply quantity (g/capita/day)      11833.95\n",
      "Residuals                                   30045.00\n",
      "Seed                                        23976.82\n",
      "Stock Variation                             34910.99\n",
      "Total Population - Both sexes             1058081.00\n",
      "Tourist consumption                           349.00\n",
      "Name: Y2015, dtype: float64\n",
      "=====================++++2016+++++=====================\n",
      "Element\n",
      "Domestic supply quantity                  2044842.70\n",
      "Export Quantity                            151920.46\n",
      "Fat supply quantity (g/capita/day)          10102.77\n",
      "Feed                                       228958.65\n",
      "Food                                      1247022.17\n",
      "Food supply (kcal/capita/day)              451810.00\n",
      "Food supply quantity (kg/capita/yr)         48985.28\n",
      "Import Quantity                            286582.78\n",
      "Losses                                     157787.00\n",
      "Other uses (non-food)                       69563.68\n",
      "Processing                                 280631.00\n",
      "Production                                1943537.15\n",
      "Protein supply quantity (g/capita/day)      11779.69\n",
      "Residuals                                   37224.00\n",
      "Seed                                        23389.20\n",
      "Stock Variation                             33140.12\n",
      "Total Population - Both sexes             1085107.00\n",
      "Tourist consumption                            89.00\n",
      "Name: Y2016, dtype: float64\n",
      "=====================++++2017+++++=====================\n",
      "Element\n",
      "Domestic supply quantity                  2088198.10\n",
      "Export Quantity                            182338.80\n",
      "Fat supply quantity (g/capita/day)          10253.84\n",
      "Feed                                       223705.68\n",
      "Food                                      1258888.28\n",
      "Food supply (kcal/capita/day)              454681.00\n",
      "Food supply quantity (kg/capita/yr)         48690.04\n",
      "Import Quantity                            294559.09\n",
      "Losses                                     160614.00\n",
      "Other uses (non-food)                       91645.97\n",
      "Processing                                 292836.00\n",
      "Production                                2030056.89\n",
      "Protein supply quantity (g/capita/day)      11842.45\n",
      "Residuals                                   35500.00\n",
      "Seed                                        24870.14\n",
      "Stock Variation                             54316.91\n",
      "Total Population - Both sexes             1112641.00\n",
      "Tourist consumption                            91.00\n",
      "Name: Y2017, dtype: float64\n",
      "=====================++++2018+++++=====================\n",
      "Element\n",
      "Domestic supply quantity                  2161192.10\n",
      "Export Quantity                            181594.80\n",
      "Fat supply quantity (g/capita/day)          10258.69\n",
      "Feed                                       233489.68\n",
      "Food                                      1303841.28\n",
      "Food supply (kcal/capita/day)              455261.00\n",
      "Food supply quantity (kg/capita/yr)         49056.85\n",
      "Import Quantity                            287997.09\n",
      "Losses                                     163902.00\n",
      "Other uses (non-food)                       91300.97\n",
      "Processing                                 308429.00\n",
      "Production                                2075072.89\n",
      "Protein supply quantity (g/capita/day)      11833.56\n",
      "Residuals                                   34864.00\n",
      "Seed                                        25263.14\n",
      "Stock Variation                             20577.91\n",
      "Total Population - Both sexes             1140605.00\n",
      "Tourist consumption                            90.00\n",
      "Name: Y2018, dtype: float64\n"
     ]
    }
   ],
   "source": [
    "print(\"=====================++++2014+++++=====================\")\n",
    "print(df.groupby('Element')['Y2014'].sum())\n",
    "print(\"=====================++++2015+++++=====================\")\n",
    "print(df.groupby('Element')['Y2015'].sum())\n",
    "print(\"=====================++++2016+++++=====================\")\n",
    "print(df.groupby('Element')['Y2016'].sum())\n",
    "print(\"=====================++++2017+++++=====================\")\n",
    "print(df.groupby('Element')['Y2017'].sum())\n",
    "print(\"=====================++++2018+++++=====================\")\n",
    "print(df.groupby('Element')['Y2018'].sum())"
   ]
  },
  {
   "cell_type": "markdown",
   "id": "9d970825-24e8-477c-899d-f0e48b3fe824",
   "metadata": {},
   "source": [
    "#### From the results above, the questions below can be answered\n",
    "##### What year has the highest sum of Import Quantity?\n",
    "2017\n",
    "\n",
    "##### What is the total number of the sum of Production in 2014?\n",
    "1931287.75\n",
    "\n",
    "##### Which of these elements had the highest sum in 2018?\n",
    "Domestic supply quantity\n",
    "\n",
    "##### Which of these elements had the 3rd lowest sum in 2018?\n",
    "Protein supply quantity (g/capita/day)"
   ]
  },
  {
   "cell_type": "code",
   "execution_count": 117,
   "id": "a703fa20-1096-4f15-aee4-c9cf4c5503c6",
   "metadata": {},
   "outputs": [
    {
     "data": {
      "text/plain": [
       "49"
      ]
     },
     "execution_count": 117,
     "metadata": {},
     "output_type": "execute_result"
    }
   ],
   "source": [
    "#What is the total number of unique countries in the dataset?\n",
    "len(df['Area'].value_counts())"
   ]
  },
  {
   "cell_type": "code",
   "execution_count": null,
   "id": "e61c1c00-6e8a-493c-a228-df51bc06b18e",
   "metadata": {},
   "outputs": [],
   "source": []
  }
 ],
 "metadata": {
  "kernelspec": {
   "display_name": "Python 3 (ipykernel)",
   "language": "python",
   "name": "python3"
  },
  "language_info": {
   "codemirror_mode": {
    "name": "ipython",
    "version": 3
   },
   "file_extension": ".py",
   "mimetype": "text/x-python",
   "name": "python",
   "nbconvert_exporter": "python",
   "pygments_lexer": "ipython3",
   "version": "3.9.7"
  }
 },
 "nbformat": 4,
 "nbformat_minor": 5
}
